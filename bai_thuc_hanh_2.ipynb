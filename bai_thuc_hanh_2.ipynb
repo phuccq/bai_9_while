{
 "cells": [
  {
   "cell_type": "code",
   "execution_count": 1,
   "id": "7ec344b3",
   "metadata": {},
   "outputs": [
    {
     "ename": "IndentationError",
     "evalue": "unexpected indent (4103503941.py, line 20)",
     "output_type": "error",
     "traceback": [
      "\u001b[1;36m  Input \u001b[1;32mIn [1]\u001b[1;36m\u001b[0m\n\u001b[1;33m    t.left(goc_chay)\u001b[0m\n\u001b[1;37m    ^\u001b[0m\n\u001b[1;31mIndentationError\u001b[0m\u001b[1;31m:\u001b[0m unexpected indent\n"
     ]
    }
   ],
   "source": [
    "import turtle\n",
    "import random\n",
    "t = turtle.Turtle()\n",
    "r = random.Random()\n",
    "\n",
    "#Vẽ vòng tròn\n",
    "ban_kinh = 200\n",
    "t.penup()\n",
    "t.goto(0,-ban_kinh)\n",
    "t.pendown()\n",
    "t.circle(ban_kinh)\n",
    "\n",
    "#Cho ràa chạy\n",
    "count = 0\n",
    "t.shape(\"turtle\")\n",
    "t.penup()\n",
    "t.goto(0,0)\n",
    "while count <= 10:\n",
    "    goc_chay = r.randint(1,360)\n",
    "        t.left(goc_chay)\n",
    "    t.forward(ban_kinh)\n",
    "    t.goto(0,0)\n",
    "    count+=1\n",
    "turtle.done()"
   ]
  },
  {
   "cell_type": "code",
   "execution_count": null,
   "id": "740908c6",
   "metadata": {},
   "outputs": [],
   "source": []
  }
 ],
 "metadata": {
  "kernelspec": {
   "display_name": "Python 3 (ipykernel)",
   "language": "python",
   "name": "python3"
  },
  "language_info": {
   "codemirror_mode": {
    "name": "ipython",
    "version": 3
   },
   "file_extension": ".py",
   "mimetype": "text/x-python",
   "name": "python",
   "nbconvert_exporter": "python",
   "pygments_lexer": "ipython3",
   "version": "3.9.12"
  }
 },
 "nbformat": 4,
 "nbformat_minor": 5
}
