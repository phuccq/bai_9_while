{
 "cells": [
  {
   "cell_type": "code",
   "execution_count": null,
   "id": "ba76979a",
   "metadata": {},
   "outputs": [],
   "source": [
    "import turtle\n",
    "t = turtle.Turtle()\n",
    "# t.speed(20)\n",
    "turtle.bgcolor(\"black\")\n",
    "ban_kinh = 100\n",
    "mau = (\"red\",\"blue\",\"green\",\"yellow\")\n",
    "ma_mau = 0\n",
    "n = 0\n",
    "i = 0\n",
    "while n < 5:\n",
    "    while i < 4:\n",
    "        j = 0\n",
    "        t.right(18)\n",
    "        t.pencolor(mau[ma_mau])\n",
    "        while j < 2:\n",
    "            t.circle(ban_kinh,90)\n",
    "            t.circle(ban_kinh/2,90)\n",
    "            j += 1\n",
    "        i += 1\n",
    "        ma_mau += 1\n",
    "    continue\n",
    "    n += 1\n",
    "turtle.done()   "
   ]
  },
  {
   "cell_type": "code",
   "execution_count": null,
   "id": "b6d8f1bb",
   "metadata": {},
   "outputs": [],
   "source": []
  }
 ],
 "metadata": {
  "kernelspec": {
   "display_name": "Python 3 (ipykernel)",
   "language": "python",
   "name": "python3"
  },
  "language_info": {
   "codemirror_mode": {
    "name": "ipython",
    "version": 3
   },
   "file_extension": ".py",
   "mimetype": "text/x-python",
   "name": "python",
   "nbconvert_exporter": "python",
   "pygments_lexer": "ipython3",
   "version": "3.9.12"
  }
 },
 "nbformat": 4,
 "nbformat_minor": 5
}
